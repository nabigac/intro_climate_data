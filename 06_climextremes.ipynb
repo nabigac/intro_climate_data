{
 "cells": [
  {
   "cell_type": "markdown",
   "id": "3394dd08-862d-4d6b-bc70-a1849357b97d",
   "metadata": {},
   "source": [
    "# applying extreme value theory using climextremes"
   ]
  },
  {
   "cell_type": "code",
   "execution_count": 1,
   "id": "fb86f837-6e5c-4226-8529-fa2ce2a5cb4e",
   "metadata": {},
   "outputs": [
    {
     "ename": "ModuleNotFoundError",
     "evalue": "No module named 'climextremes'",
     "output_type": "error",
     "traceback": [
      "\u001b[0;31m---------------------------------------------------------------------------\u001b[0m",
      "\u001b[0;31mModuleNotFoundError\u001b[0m                       Traceback (most recent call last)",
      "\u001b[0;32m/var/folders/bz/l7frggbx71n9k19wxh7hvwsm0000gn/T/ipykernel_36421/940182478.py\u001b[0m in \u001b[0;36m<module>\u001b[0;34m\u001b[0m\n\u001b[1;32m      5\u001b[0m \u001b[0;32mfrom\u001b[0m \u001b[0mdatetime\u001b[0m \u001b[0;32mimport\u001b[0m \u001b[0mdatetime\u001b[0m\u001b[0;34m\u001b[0m\u001b[0;34m\u001b[0m\u001b[0m\n\u001b[1;32m      6\u001b[0m \u001b[0;34m\u001b[0m\u001b[0m\n\u001b[0;32m----> 7\u001b[0;31m \u001b[0;32mimport\u001b[0m \u001b[0mclimextremes\u001b[0m \u001b[0;32mas\u001b[0m \u001b[0mcliext\u001b[0m\u001b[0;34m\u001b[0m\u001b[0;34m\u001b[0m\u001b[0m\n\u001b[0m\u001b[1;32m      8\u001b[0m \u001b[0;34m\u001b[0m\u001b[0m\n\u001b[1;32m      9\u001b[0m \u001b[0;32mimport\u001b[0m \u001b[0mmatplotlib\u001b[0m\u001b[0;34m.\u001b[0m\u001b[0mpyplot\u001b[0m \u001b[0;32mas\u001b[0m \u001b[0mplt\u001b[0m\u001b[0;34m\u001b[0m\u001b[0;34m\u001b[0m\u001b[0m\n",
      "\u001b[0;31mModuleNotFoundError\u001b[0m: No module named 'climextremes'"
     ]
    }
   ],
   "source": [
    "import requests \n",
    "import numpy as np\n",
    "import pandas as pd\n",
    "import xarray as xr\n",
    "from datetime import datetime\n",
    "\n",
    "import climextremes as cliext\n",
    "\n",
    "import matplotlib.pyplot as plt\n",
    "%matplotlib inline"
   ]
  },
  {
   "cell_type": "code",
   "execution_count": 4,
   "id": "2ab59186-a09a-4a70-a8fa-9aa1905e7e0c",
   "metadata": {},
   "outputs": [
    {
     "name": "stdout",
     "output_type": "stream",
     "text": [
      "Python 2.7.16\n"
     ]
    }
   ],
   "source": [
    "!python --version"
   ]
  },
  {
   "cell_type": "markdown",
   "id": "8f786ff2-875e-4126-aac4-907e34dad95c",
   "metadata": {},
   "source": [
    "## extracting time series from netcdf file"
   ]
  },
  {
   "cell_type": "code",
   "execution_count": 2,
   "id": "8e262859-25bb-48bd-bef5-c4469a407c48",
   "metadata": {},
   "outputs": [
    {
     "name": "stdout",
     "output_type": "stream",
     "text": [
      "<xarray.Dataset>\n",
      "Dimensions:    (time: 1872, bnds: 2, lat: 96, lon: 144)\n",
      "Coordinates:\n",
      "  * time       (time) object 1850-01-16 12:00:00 ... 2005-12-16 12:00:00\n",
      "  * lat        (lat) float64 -90.0 -88.11 -86.21 -84.32 ... 86.21 88.11 90.0\n",
      "  * lon        (lon) float64 0.0 2.5 5.0 7.5 10.0 ... 350.0 352.5 355.0 357.5\n",
      "Dimensions without coordinates: bnds\n",
      "Data variables:\n",
      "    time_bnds  (time, bnds) object ...\n",
      "    lat_bnds   (lat, bnds) float64 ...\n",
      "    lon_bnds   (lon, bnds) float64 ...\n",
      "    pr         (time, lat, lon) float32 ...\n",
      "Attributes: (12/26)\n",
      "    institution:            Norwegian Climate Centre\n",
      "    institute_id:           NCC\n",
      "    experiment_id:          historical\n",
      "    source:                 NorESM1-M 2011  atmosphere: CAM-Oslo (CAM4-Oslo-n...\n",
      "    model_id:               NorESM1-M\n",
      "    forcing:                GHG, SA, Oz, Sl, Vl, BC, OC\n",
      "    ...                     ...\n",
      "    table_id:               Table Amon (27 April 2011) a5a1c518f52ae340313ba0...\n",
      "    title:                  NorESM1-M model output prepared for CMIP5 historical\n",
      "    parent_experiment:      pre-industrial control\n",
      "    modeling_realm:         atmos\n",
      "    realization:            1\n",
      "    cmor_version:           2.6.0\n"
     ]
    }
   ],
   "source": [
    "ds = xr.open_dataset(\"./data/pr_Amon_NorESM1-M_historical_r1i1p1_185001-200512.nc\")\n",
    "print(ds)"
   ]
  },
  {
   "cell_type": "code",
   "execution_count": 3,
   "id": "c36ddbcd-21ad-43bf-8484-1a5e55628d90",
   "metadata": {},
   "outputs": [],
   "source": [
    "# converting precipitation to m/day units\n",
    "\n",
    "ds[\"pr\"].data = ds[\"pr\"].data * 86.4\n",
    "ds[\"pr\"].attrs[\"units\"] = 'm/day' "
   ]
  },
  {
   "cell_type": "code",
   "execution_count": 4,
   "id": "4b57845f-57dd-4fcf-9364-2ca7abe87664",
   "metadata": {},
   "outputs": [],
   "source": [
    "# setting defined location\n",
    "# coordinates for berkeley, california\n",
    "\n",
    "lat = 37.87\n",
    "lon = 122.27"
   ]
  },
  {
   "cell_type": "code",
   "execution_count": 5,
   "id": "580d7735-a5e5-4f82-82f1-a020c6125636",
   "metadata": {},
   "outputs": [],
   "source": [
    "# getting dataset specifically for defined location\n",
    "\n",
    "ds_berk = ds.sel(lon=lon, lat=lat, method='nearest')"
   ]
  },
  {
   "cell_type": "code",
   "execution_count": 6,
   "id": "266625f4-d3fd-48fb-b1e2-74dde9caadc4",
   "metadata": {},
   "outputs": [
    {
     "data": {
      "text/plain": [
       "array([0.00017749, 0.00060158, 0.00168481, ..., 0.00080042, 0.00033764,\n",
       "       0.00064344], dtype=float32)"
      ]
     },
     "execution_count": 6,
     "metadata": {},
     "output_type": "execute_result"
    }
   ],
   "source": [
    "ds_berk['pr'].values"
   ]
  },
  {
   "cell_type": "code",
   "execution_count": 7,
   "id": "bbe7b174-cbc6-43f6-88f8-cffa773d007a",
   "metadata": {},
   "outputs": [
    {
     "data": {
      "text/plain": [
       "[<matplotlib.lines.Line2D at 0x1540a3a60>]"
      ]
     },
     "execution_count": 7,
     "metadata": {},
     "output_type": "execute_result"
    },
    {
     "data": {
      "image/png": "[encoded data removed]",
      "text/plain": [
       "<Figure size 432x288 with 1 Axes>"
      ]
     },
     "metadata": {
      "needs_background": "light"
     },
     "output_type": "display_data"
    }
   ],
   "source": [
    "# plotting values for defined location\n",
    "\n",
    "ds_berk['pr'].plot()"
   ]
  },
  {
   "cell_type": "code",
   "execution_count": 8,
   "id": "91464474-dd62-4dc0-b9b7-c0857fec5817",
   "metadata": {},
   "outputs": [],
   "source": [
    "# converting to timeseries\n",
    "\n",
    "series = ds_berk['pr'].to_pandas()"
   ]
  },
  {
   "cell_type": "code",
   "execution_count": 9,
   "id": "ee85c804-6fa3-4cff-88f7-7855391e3866",
   "metadata": {},
   "outputs": [
    {
     "name": "stderr",
     "output_type": "stream",
     "text": [
      "/var/folders/bz/l7frggbx71n9k19wxh7hvwsm0000gn/T/ipykernel_20816/2564721491.py:1: RuntimeWarning: Converting a CFTimeIndex with dates from a non-standard calendar, 'noleap', to a pandas.DatetimeIndex, which uses dates from the standard calendar.  This may lead to subtle errors in operations that depend on the length of time between dates.\n",
      "  series.index = series.index.to_datetimeindex()\n"
     ]
    }
   ],
   "source": [
    "series.index = series.index.to_datetimeindex()"
   ]
  }
 ],
 "metadata": {
  "kernelspec": {
   "display_name": "Python [conda env:intro_climate_data] *",
   "language": "python",
   "name": "conda-env-intro_climate_data-py"
  },
  "language_info": {
   "codemirror_mode": {
    "name": "ipython",
    "version": 3
   },
   "file_extension": ".py",
   "mimetype": "text/x-python",
   "name": "python",
   "nbconvert_exporter": "python",
   "pygments_lexer": "ipython3",
   "version": "3.9.7"
  }
 },
 "nbformat": 4,
 "nbformat_minor": 5
}
