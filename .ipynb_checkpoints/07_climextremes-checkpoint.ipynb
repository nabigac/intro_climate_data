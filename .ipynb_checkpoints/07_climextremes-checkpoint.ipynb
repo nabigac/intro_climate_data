{
 "cells": [
  {
   "cell_type": "markdown",
   "id": "353ca601-ba70-4bd5-88b3-5abae6ed4f01",
   "metadata": {},
   "source": [
    "# calculating return values and periods using climextremes"
   ]
  },
  {
   "cell_type": "code",
   "execution_count": 2,
   "id": "c9dd5340-2da7-4af4-b6d1-d28db34d1457",
   "metadata": {},
   "outputs": [],
   "source": [
    "import requests \n",
    "import numpy as np\n",
    "import pandas as pd\n",
    "import xarray as xr\n",
    "from datetime import datetime\n",
    "\n",
    "import climextremes as cmext\n",
    "\n",
    "import matplotlib.pyplot as plt\n",
    "%matplotlib inline"
   ]
  },
  {
   "cell_type": "markdown",
   "id": "5e980e50-1048-4e3a-98b3-7643c5260096",
   "metadata": {},
   "source": [
    "## extracting time series from netcdf file"
   ]
  },
  {
   "cell_type": "code",
   "execution_count": 2,
   "id": "3cc7144f-bf45-444e-940b-327809ca1adf",
   "metadata": {},
   "outputs": [
    {
     "name": "stdout",
     "output_type": "stream",
     "text": [
      "<xarray.Dataset>\n",
      "Dimensions:    (time: 1872, bnds: 2, lat: 96, lon: 144)\n",
      "Coordinates:\n",
      "  * time       (time) object 1850-01-16 12:00:00 ... 2005-12-16 12:00:00\n",
      "  * lat        (lat) float64 -90.0 -88.11 -86.21 -84.32 ... 86.21 88.11 90.0\n",
      "  * lon        (lon) float64 0.0 2.5 5.0 7.5 10.0 ... 350.0 352.5 355.0 357.5\n",
      "Dimensions without coordinates: bnds\n",
      "Data variables:\n",
      "    time_bnds  (time, bnds) object ...\n",
      "    lat_bnds   (lat, bnds) float64 ...\n",
      "    lon_bnds   (lon, bnds) float64 ...\n",
      "    pr         (time, lat, lon) float32 ...\n",
      "Attributes: (12/26)\n",
      "    institution:            Norwegian Climate Centre\n",
      "    institute_id:           NCC\n",
      "    experiment_id:          historical\n",
      "    source:                 NorESM1-M 2011  atmosphere: CAM-Oslo (CAM4-Oslo-n...\n",
      "    model_id:               NorESM1-M\n",
      "    forcing:                GHG, SA, Oz, Sl, Vl, BC, OC\n",
      "    ...                     ...\n",
      "    table_id:               Table Amon (27 April 2011) a5a1c518f52ae340313ba0...\n",
      "    title:                  NorESM1-M model output prepared for CMIP5 historical\n",
      "    parent_experiment:      pre-industrial control\n",
      "    modeling_realm:         atmos\n",
      "    realization:            1\n",
      "    cmor_version:           2.6.0\n"
     ]
    }
   ],
   "source": [
    "ds = xr.open_dataset(\"./data/pr_Amon_NorESM1-M_historical_r1i1p1_185001-200512.nc\")\n",
    "print(ds)"
   ]
  },
  {
   "cell_type": "code",
   "execution_count": 3,
   "id": "237b44aa-2bcb-4b3a-bb10-dc0923d2215c",
   "metadata": {},
   "outputs": [],
   "source": [
    "# converting precipitation to m/day units\n",
    "\n",
    "ds[\"pr\"].data = ds[\"pr\"].data * 86.4\n",
    "ds[\"pr\"].attrs[\"units\"] = 'm/day' "
   ]
  },
  {
   "cell_type": "code",
   "execution_count": 4,
   "id": "18bc33f8-c4e0-4041-9e7f-34150f3b40db",
   "metadata": {},
   "outputs": [],
   "source": [
    "# getting dataset specifically for defined location\n",
    "# coordinates for berkeley, california\n",
    "\n",
    "lat = 37.87\n",
    "lon = 122.27\n",
    "ds_berk = ds.sel(lon=lon, lat=lat, method='nearest')"
   ]
  },
  {
   "cell_type": "code",
   "execution_count": 5,
   "id": "9cb49e15-b52a-4667-b4d4-8c1a497f6ae8",
   "metadata": {},
   "outputs": [
    {
     "name": "stderr",
     "output_type": "stream",
     "text": [
      "/var/folders/bz/l7frggbx71n9k19wxh7hvwsm0000gn/T/ipykernel_85359/1416090827.py:4: RuntimeWarning: Converting a CFTimeIndex with dates from a non-standard calendar, 'noleap', to a pandas.DatetimeIndex, which uses dates from the standard calendar.  This may lead to subtle errors in operations that depend on the length of time between dates.\n",
      "  sr.index = sr.index.to_datetimeindex()\n"
     ]
    }
   ],
   "source": [
    "# converting to timeseries dataframe\n",
    "\n",
    "sr = ds_berk['pr'].to_pandas()\n",
    "sr.index = sr.index.to_datetimeindex()\n",
    "df = pd.DataFrame({'time':sr.index, 'pr':sr.values})"
   ]
  },
  {
   "cell_type": "markdown",
   "id": "994b3612-5882-412a-9c64-acfe50e732be",
   "metadata": {},
   "source": [
    "## using climextremes to calculate extreme value"
   ]
  },
  {
   "cell_type": "code",
   "execution_count": null,
   "id": "677c68a0-47f6-4cc9-af80-853bd3443cba",
   "metadata": {},
   "outputs": [],
   "source": []
  }
 ],
 "metadata": {
  "kernelspec": {
   "display_name": "Python [conda env:climate_wip]",
   "language": "python",
   "name": "conda-env-climate_wip-py"
  },
  "language_info": {
   "codemirror_mode": {
    "name": "ipython",
    "version": 3
   },
   "file_extension": ".py",
   "mimetype": "text/x-python",
   "name": "python",
   "nbconvert_exporter": "python",
   "pygments_lexer": "ipython3",
   "version": "3.9.9"
  }
 },
 "nbformat": 4,
 "nbformat_minor": 5
}
