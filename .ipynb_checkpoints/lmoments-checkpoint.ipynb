{
 "cells": [
  {
   "cell_type": "code",
   "execution_count": 1,
   "id": "4c8b4260-ea7c-403c-bf8b-d5449cec17ec",
   "metadata": {},
   "outputs": [],
   "source": [
    "import requests \n",
    "import numpy as np\n",
    "import pandas as pd\n",
    "import xarray as xr\n",
    "from datetime import datetime\n",
    "\n",
    "import pyextremes as pyext\n",
    "from pyextremes.plotting import plot_extremes\n",
    "\n",
    "import matplotlib.pyplot as plt\n",
    "%matplotlib inline"
   ]
  },
  {
   "cell_type": "code",
   "execution_count": 16,
   "id": "d9ae8ef3-b71a-44fa-8011-878e8197d862",
   "metadata": {},
   "outputs": [],
   "source": [
    "import lmoments3 as lm\n",
    "from lmoments3 import distr"
   ]
  },
  {
   "cell_type": "code",
   "execution_count": 3,
   "id": "b4425985-d183-40b3-bea1-895692d94e5f",
   "metadata": {},
   "outputs": [
    {
     "name": "stdout",
     "output_type": "stream",
     "text": [
      "<xarray.Dataset>\n",
      "Dimensions:    (time: 1872, bnds: 2, lat: 96, lon: 144)\n",
      "Coordinates:\n",
      "  * time       (time) object 1850-01-16 12:00:00 ... 2005-12-16 12:00:00\n",
      "  * lat        (lat) float64 -90.0 -88.11 -86.21 -84.32 ... 86.21 88.11 90.0\n",
      "  * lon        (lon) float64 0.0 2.5 5.0 7.5 10.0 ... 350.0 352.5 355.0 357.5\n",
      "Dimensions without coordinates: bnds\n",
      "Data variables:\n",
      "    time_bnds  (time, bnds) object ...\n",
      "    lat_bnds   (lat, bnds) float64 ...\n",
      "    lon_bnds   (lon, bnds) float64 ...\n",
      "    pr         (time, lat, lon) float32 ...\n",
      "Attributes: (12/26)\n",
      "    institution:            Norwegian Climate Centre\n",
      "    institute_id:           NCC\n",
      "    experiment_id:          historical\n",
      "    source:                 NorESM1-M 2011  atmosphere: CAM-Oslo (CAM4-Oslo-n...\n",
      "    model_id:               NorESM1-M\n",
      "    forcing:                GHG, SA, Oz, Sl, Vl, BC, OC\n",
      "    ...                     ...\n",
      "    table_id:               Table Amon (27 April 2011) a5a1c518f52ae340313ba0...\n",
      "    title:                  NorESM1-M model output prepared for CMIP5 historical\n",
      "    parent_experiment:      pre-industrial control\n",
      "    modeling_realm:         atmos\n",
      "    realization:            1\n",
      "    cmor_version:           2.6.0\n"
     ]
    }
   ],
   "source": [
    "ds = xr.open_dataset(\"./data/pr_Amon_NorESM1-M_historical_r1i1p1_185001-200512.nc\")\n",
    "print(ds)"
   ]
  },
  {
   "cell_type": "code",
   "execution_count": 4,
   "id": "e3791cf3-0fd6-49ce-85c3-0c51b388d0f6",
   "metadata": {},
   "outputs": [],
   "source": [
    "# converting precipitation to m/day units\n",
    "\n",
    "ds[\"pr\"].data = ds[\"pr\"].data * 86.4\n",
    "ds[\"pr\"].attrs[\"units\"] = 'm/day' "
   ]
  },
  {
   "cell_type": "code",
   "execution_count": 5,
   "id": "3b748b53-b103-46d7-8c4f-3f1be8ef65d8",
   "metadata": {},
   "outputs": [],
   "source": [
    "# setting defined location\n",
    "# coordinates for berkeley, california\n",
    "\n",
    "lat = 37.87\n",
    "lon = 122.27"
   ]
  },
  {
   "cell_type": "code",
   "execution_count": 6,
   "id": "4b6667b5-1e46-49cc-9ebb-366f96a2d5c5",
   "metadata": {},
   "outputs": [],
   "source": [
    "# getting dataset specifically for defined location\n",
    "\n",
    "ds_berk = ds.sel(lon=lon, lat=lat, method='nearest')"
   ]
  },
  {
   "cell_type": "code",
   "execution_count": 7,
   "id": "ae518daa-0a9c-456a-b6c1-69ad9b65b57e",
   "metadata": {},
   "outputs": [],
   "source": [
    "# converting to timeseries\n",
    "\n",
    "series = ds_berk['pr'].to_pandas()\n",
    "df = pd.DataFrame({'time':series.index, 'pr':series.values})"
   ]
  },
  {
   "cell_type": "code",
   "execution_count": 8,
   "id": "2f906405-25b3-4c9d-86e4-71b4687e9eb1",
   "metadata": {},
   "outputs": [
    {
     "data": {
      "text/html": [
       "<div>\n",
       "<style scoped>\n",
       "    .dataframe tbody tr th:only-of-type {\n",
       "        vertical-align: middle;\n",
       "    }\n",
       "\n",
       "    .dataframe tbody tr th {\n",
       "        vertical-align: top;\n",
       "    }\n",
       "\n",
       "    .dataframe thead th {\n",
       "        text-align: right;\n",
       "    }\n",
       "</style>\n",
       "<table border=\"1\" class=\"dataframe\">\n",
       "  <thead>\n",
       "    <tr style=\"text-align: right;\">\n",
       "      <th></th>\n",
       "      <th>time</th>\n",
       "      <th>pr</th>\n",
       "    </tr>\n",
       "  </thead>\n",
       "  <tbody>\n",
       "    <tr>\n",
       "      <th>0</th>\n",
       "      <td>1850-01-16 12:00:00</td>\n",
       "      <td>0.000177</td>\n",
       "    </tr>\n",
       "    <tr>\n",
       "      <th>1</th>\n",
       "      <td>1850-02-15 00:00:00</td>\n",
       "      <td>0.000602</td>\n",
       "    </tr>\n",
       "    <tr>\n",
       "      <th>2</th>\n",
       "      <td>1850-03-16 12:00:00</td>\n",
       "      <td>0.001685</td>\n",
       "    </tr>\n",
       "    <tr>\n",
       "      <th>3</th>\n",
       "      <td>1850-04-16 00:00:00</td>\n",
       "      <td>0.000859</td>\n",
       "    </tr>\n",
       "    <tr>\n",
       "      <th>4</th>\n",
       "      <td>1850-05-16 12:00:00</td>\n",
       "      <td>0.001908</td>\n",
       "    </tr>\n",
       "    <tr>\n",
       "      <th>...</th>\n",
       "      <td>...</td>\n",
       "      <td>...</td>\n",
       "    </tr>\n",
       "    <tr>\n",
       "      <th>1867</th>\n",
       "      <td>2005-08-16 12:00:00</td>\n",
       "      <td>0.002018</td>\n",
       "    </tr>\n",
       "    <tr>\n",
       "      <th>1868</th>\n",
       "      <td>2005-09-16 00:00:00</td>\n",
       "      <td>0.001186</td>\n",
       "    </tr>\n",
       "    <tr>\n",
       "      <th>1869</th>\n",
       "      <td>2005-10-16 12:00:00</td>\n",
       "      <td>0.000800</td>\n",
       "    </tr>\n",
       "    <tr>\n",
       "      <th>1870</th>\n",
       "      <td>2005-11-16 00:00:00</td>\n",
       "      <td>0.000338</td>\n",
       "    </tr>\n",
       "    <tr>\n",
       "      <th>1871</th>\n",
       "      <td>2005-12-16 12:00:00</td>\n",
       "      <td>0.000643</td>\n",
       "    </tr>\n",
       "  </tbody>\n",
       "</table>\n",
       "<p>1872 rows × 2 columns</p>\n",
       "</div>"
      ],
      "text/plain": [
       "                     time        pr\n",
       "0     1850-01-16 12:00:00  0.000177\n",
       "1     1850-02-15 00:00:00  0.000602\n",
       "2     1850-03-16 12:00:00  0.001685\n",
       "3     1850-04-16 00:00:00  0.000859\n",
       "4     1850-05-16 12:00:00  0.001908\n",
       "...                   ...       ...\n",
       "1867  2005-08-16 12:00:00  0.002018\n",
       "1868  2005-09-16 00:00:00  0.001186\n",
       "1869  2005-10-16 12:00:00  0.000800\n",
       "1870  2005-11-16 00:00:00  0.000338\n",
       "1871  2005-12-16 12:00:00  0.000643\n",
       "\n",
       "[1872 rows x 2 columns]"
      ]
     },
     "execution_count": 8,
     "metadata": {},
     "output_type": "execute_result"
    }
   ],
   "source": [
    "df"
   ]
  },
  {
   "cell_type": "code",
   "execution_count": 9,
   "id": "67a25e30-c915-4ce2-a980-a28d903005e0",
   "metadata": {},
   "outputs": [
    {
     "data": {
      "text/plain": [
       "time\n",
       "1850-01-16 12:00:00    0.000177\n",
       "1850-02-15 00:00:00    0.000602\n",
       "1850-03-16 12:00:00    0.001685\n",
       "1850-04-16 00:00:00    0.000859\n",
       "1850-05-16 12:00:00    0.001908\n",
       "                         ...   \n",
       "2005-08-16 12:00:00    0.002018\n",
       "2005-09-16 00:00:00    0.001186\n",
       "2005-10-16 12:00:00    0.000800\n",
       "2005-11-16 00:00:00    0.000338\n",
       "2005-12-16 12:00:00    0.000643\n",
       "Name: pr, Length: 1872, dtype: float32"
      ]
     },
     "execution_count": 9,
     "metadata": {},
     "output_type": "execute_result"
    }
   ],
   "source": [
    "df_max = df.groupby(\"time\")['pr'].max()\n",
    "df_max"
   ]
  },
  {
   "cell_type": "code",
   "execution_count": 13,
   "id": "3dcffc99-4f25-4739-9fbe-bde104116709",
   "metadata": {},
   "outputs": [
    {
     "data": {
      "text/plain": [
       "[0.0021217845675321643,\n",
       " 0.0010196059610875323,\n",
       " 0.2690868716808821,\n",
       " 0.09894801227927753,\n",
       " 0.06565812694739435]"
      ]
     },
     "execution_count": 13,
     "metadata": {},
     "output_type": "execute_result"
    }
   ],
   "source": [
    "lm_params = lm.lmom_ratios(df_max, 5)"
   ]
  },
  {
   "cell_type": "code",
   "execution_count": 17,
   "id": "d76acc20-cb52-49e1-91b8-5178805c1a9a",
   "metadata": {},
   "outputs": [],
   "source": [
    "paras = distr.gev.lmom_fit(df_max)"
   ]
  },
  {
   "cell_type": "code",
   "execution_count": 21,
   "id": "4228e632-a2b1-4cf5-a2a2-3bcd7189e1f4",
   "metadata": {},
   "outputs": [],
   "source": [
    "fitted_gev = distr.gev(**paras)"
   ]
  },
  {
   "cell_type": "code",
   "execution_count": 26,
   "id": "07e64aa1-7cfc-4ea4-a2ee-2ba757fcd24a",
   "metadata": {},
   "outputs": [
    {
     "data": {
      "text/plain": [
       "0.9243327933011254"
      ]
     },
     "execution_count": 26,
     "metadata": {},
     "output_type": "execute_result"
    }
   ],
   "source": [
    "1-fitted_gev.cdf(0.00007)"
   ]
  },
  {
   "cell_type": "code",
   "execution_count": 19,
   "id": "402bfe02-e0e8-4ae3-81fe-ea425ed8469e",
   "metadata": {},
   "outputs": [
    {
     "ename": "AttributeError",
     "evalue": "module 'lmoments3' has no attribute 'cdfgev'",
     "output_type": "error",
     "traceback": [
      "\u001b[0;31m---------------------------------------------------------------------------\u001b[0m",
      "\u001b[0;31mAttributeError\u001b[0m                            Traceback (most recent call last)",
      "\u001b[0;32m/var/folders/bz/l7frggbx71n9k19wxh7hvwsm0000gn/T/ipykernel_34878/3324585779.py\u001b[0m in \u001b[0;36m<module>\u001b[0;34m\u001b[0m\n\u001b[0;32m----> 1\u001b[0;31m \u001b[0mlm\u001b[0m\u001b[0;34m.\u001b[0m\u001b[0mcdfgev\u001b[0m\u001b[0;34m(\u001b[0m\u001b[0;36m75\u001b[0m\u001b[0;34m,\u001b[0m\u001b[0mrcp_params\u001b[0m\u001b[0;34m)\u001b[0m\u001b[0;34m\u001b[0m\u001b[0;34m\u001b[0m\u001b[0m\n\u001b[0m",
      "\u001b[0;31mAttributeError\u001b[0m: module 'lmoments3' has no attribute 'cdfgev'"
     ]
    }
   ],
   "source": []
  },
  {
   "cell_type": "code",
   "execution_count": null,
   "id": "e44e6d60-f39d-403b-9909-3c25b82ef88b",
   "metadata": {},
   "outputs": [],
   "source": []
  }
 ],
 "metadata": {
  "kernelspec": {
   "display_name": "Python [conda env:climate_wip] *",
   "language": "python",
   "name": "conda-env-climate_wip-py"
  },
  "language_info": {
   "codemirror_mode": {
    "name": "ipython",
    "version": 3
   },
   "file_extension": ".py",
   "mimetype": "text/x-python",
   "name": "python",
   "nbconvert_exporter": "python",
   "pygments_lexer": "ipython3",
   "version": "3.9.9"
  }
 },
 "nbformat": 4,
 "nbformat_minor": 5
}
