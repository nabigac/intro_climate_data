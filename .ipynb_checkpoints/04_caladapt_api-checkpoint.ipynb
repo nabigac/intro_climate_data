{
 "cells": [
  {
   "cell_type": "markdown",
   "id": "a86d8f12-6669-42f7-9ff5-ee8cafe3aba0",
   "metadata": {},
   "source": [
    "# cal-adapt api"
   ]
  },
  {
   "cell_type": "code",
   "execution_count": null,
   "id": "6f309cdf-6c7a-4ca1-90d7-eef4b611c50a",
   "metadata": {},
   "outputs": [],
   "source": []
  }
 ],
 "metadata": {
  "kernelspec": {
   "display_name": "Python [conda env:intro_climate_data] *",
   "language": "python",
   "name": "conda-env-intro_climate_data-py"
  },
  "language_info": {
   "codemirror_mode": {
    "name": "ipython",
    "version": 3
   },
   "file_extension": ".py",
   "mimetype": "text/x-python",
   "name": "python",
   "nbconvert_exporter": "python",
   "pygments_lexer": "ipython3",
   "version": "3.9.7"
  }
 },
 "nbformat": 4,
 "nbformat_minor": 5
}
