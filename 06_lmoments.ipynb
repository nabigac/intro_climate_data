{
 "cells": [
  {
   "cell_type": "markdown",
   "id": "d13a143d-caa5-43ce-b51b-3db3c3416db1",
   "metadata": {},
   "source": [
    "# calculating return values and periods from lmoments"
   ]
  },
  {
   "cell_type": "code",
   "execution_count": 2,
   "id": "08bb9a14-9241-49bd-9759-c0f81a400dab",
   "metadata": {},
   "outputs": [],
   "source": [
    "import requests \n",
    "import numpy as np\n",
    "import pandas as pd\n",
    "import xarray as xr\n",
    "from datetime import datetime\n",
    "\n",
    "import lmoments3 as lm\n",
    "from lmoments3 import distr\n",
    "\n",
    "import matplotlib.pyplot as plt\n",
    "%matplotlib inline"
   ]
  },
  {
   "cell_type": "markdown",
   "id": "9db19165-9511-494f-b146-2c040a69b235",
   "metadata": {},
   "source": [
    "## extracting time series from netcdf file"
   ]
  },
  {
   "cell_type": "code",
   "execution_count": 3,
   "id": "15e81860-a01c-4731-8146-e626098deac2",
   "metadata": {},
   "outputs": [
    {
     "name": "stdout",
     "output_type": "stream",
     "text": [
      "<xarray.Dataset>\n",
      "Dimensions:    (time: 1872, bnds: 2, lat: 96, lon: 144)\n",
      "Coordinates:\n",
      "  * time       (time) object 1850-01-16 12:00:00 ... 2005-12-16 12:00:00\n",
      "  * lat        (lat) float64 -90.0 -88.11 -86.21 -84.32 ... 86.21 88.11 90.0\n",
      "  * lon        (lon) float64 0.0 2.5 5.0 7.5 10.0 ... 350.0 352.5 355.0 357.5\n",
      "Dimensions without coordinates: bnds\n",
      "Data variables:\n",
      "    time_bnds  (time, bnds) object ...\n",
      "    lat_bnds   (lat, bnds) float64 ...\n",
      "    lon_bnds   (lon, bnds) float64 ...\n",
      "    pr         (time, lat, lon) float32 ...\n",
      "Attributes: (12/26)\n",
      "    institution:            Norwegian Climate Centre\n",
      "    institute_id:           NCC\n",
      "    experiment_id:          historical\n",
      "    source:                 NorESM1-M 2011  atmosphere: CAM-Oslo (CAM4-Oslo-n...\n",
      "    model_id:               NorESM1-M\n",
      "    forcing:                GHG, SA, Oz, Sl, Vl, BC, OC\n",
      "    ...                     ...\n",
      "    table_id:               Table Amon (27 April 2011) a5a1c518f52ae340313ba0...\n",
      "    title:                  NorESM1-M model output prepared for CMIP5 historical\n",
      "    parent_experiment:      pre-industrial control\n",
      "    modeling_realm:         atmos\n",
      "    realization:            1\n",
      "    cmor_version:           2.6.0\n"
     ]
    }
   ],
   "source": [
    "ds = xr.open_dataset(\"./data/pr_Amon_NorESM1-M_historical_r1i1p1_185001-200512.nc\")\n",
    "print(ds)"
   ]
  },
  {
   "cell_type": "code",
   "execution_count": 4,
   "id": "e445444b-e606-4ba2-a5ea-34bc45f02661",
   "metadata": {},
   "outputs": [],
   "source": [
    "# converting precipitation to m/day units\n",
    "\n",
    "ds[\"pr\"].data = ds[\"pr\"].data * 86.4\n",
    "ds[\"pr\"].attrs[\"units\"] = 'm/day' "
   ]
  },
  {
   "cell_type": "code",
   "execution_count": 7,
   "id": "812469bc-8a9c-49ff-9b6e-2324759b2780",
   "metadata": {},
   "outputs": [],
   "source": [
    "# getting dataset specifically for defined location\n",
    "# coordinates for berkeley, california\n",
    "\n",
    "lat = 37.87\n",
    "lon = 122.27\n",
    "ds_berk = ds.sel(lon=lon, lat=lat, method='nearest')"
   ]
  },
  {
   "cell_type": "code",
   "execution_count": 11,
   "id": "87279fe6-d0ea-4b5d-afd7-8f7915ca9dcc",
   "metadata": {},
   "outputs": [
    {
     "name": "stderr",
     "output_type": "stream",
     "text": [
      "/var/folders/bz/l7frggbx71n9k19wxh7hvwsm0000gn/T/ipykernel_79472/1416090827.py:4: RuntimeWarning: Converting a CFTimeIndex with dates from a non-standard calendar, 'noleap', to a pandas.DatetimeIndex, which uses dates from the standard calendar.  This may lead to subtle errors in operations that depend on the length of time between dates.\n",
      "  sr.index = sr.index.to_datetimeindex()\n"
     ]
    }
   ],
   "source": [
    "# converting to timeseries dataframe\n",
    "\n",
    "sr = ds_berk['pr'].to_pandas()\n",
    "sr.index = sr.index.to_datetimeindex()\n",
    "df = pd.DataFrame({'time':sr.index, 'pr':sr.values})"
   ]
  },
  {
   "cell_type": "markdown",
   "id": "76a99ca5-1977-4113-8607-3ee9f355a800",
   "metadata": {},
   "source": [
    "## using l-moments to calculate extreme value"
   ]
  },
  {
   "cell_type": "code",
   "execution_count": 13,
   "id": "188c875e-9428-4cf8-a78a-9774ae001327",
   "metadata": {},
   "outputs": [
    {
     "data": {
      "text/plain": [
       "time\n",
       "1850-01-16 12:00:00    0.000177\n",
       "1850-02-15 00:00:00    0.000602\n",
       "1850-03-16 12:00:00    0.001685\n",
       "1850-04-16 00:00:00    0.000859\n",
       "1850-05-16 12:00:00    0.001908\n",
       "                         ...   \n",
       "2005-08-16 12:00:00    0.002018\n",
       "2005-09-16 00:00:00    0.001186\n",
       "2005-10-16 12:00:00    0.000800\n",
       "2005-11-16 00:00:00    0.000338\n",
       "2005-12-16 12:00:00    0.000643\n",
       "Name: pr, Length: 1872, dtype: float32"
      ]
     },
     "execution_count": 13,
     "metadata": {},
     "output_type": "execute_result"
    }
   ],
   "source": [
    "# get annual max timeseries\n",
    "\n",
    "annual_max = df.groupby(\"time\")['pr'].max()\n",
    "annual_max"
   ]
  },
  {
   "cell_type": "code",
   "execution_count": 15,
   "id": "56253d2f-4b73-4ca7-8353-f95fc894ac43",
   "metadata": {},
   "outputs": [],
   "source": [
    "# get parameters\n",
    "\n",
    "lm_params = lm.lmom_ratios(annual_max, 5)"
   ]
  },
  {
   "cell_type": "code",
   "execution_count": 17,
   "id": "cf98cb35-ef4f-4a11-aab0-18167ea22f8e",
   "metadata": {},
   "outputs": [],
   "source": [
    "# fit to gev distribution\n",
    "\n",
    "paras = distr.gev.lmom_fit(annual_max)\n",
    "fitted_gev = distr.gev(**paras)"
   ]
  },
  {
   "cell_type": "code",
   "execution_count": 18,
   "id": "f3539442-ed5b-46be-ba55-8db3260e144a",
   "metadata": {},
   "outputs": [
    {
     "data": {
      "text/plain": [
       "0.9243327933011254"
      ]
     },
     "execution_count": 18,
     "metadata": {},
     "output_type": "execute_result"
    }
   ],
   "source": [
    "# calculate how to get the probability of a certain return value occuring\n",
    "\n",
    "1-fitted_gev.cdf(0.00007)"
   ]
  }
 ],
 "metadata": {
  "kernelspec": {
   "display_name": "Python [conda env:intro_climate_data] *",
   "language": "python",
   "name": "conda-env-intro_climate_data-py"
  },
  "language_info": {
   "codemirror_mode": {
    "name": "ipython",
    "version": 3
   },
   "file_extension": ".py",
   "mimetype": "text/x-python",
   "name": "python",
   "nbconvert_exporter": "python",
   "pygments_lexer": "ipython3",
   "version": "3.9.9"
  }
 },
 "nbformat": 4,
 "nbformat_minor": 5
}
